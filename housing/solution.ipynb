{
 "cells": [
  {
   "attachments": {},
   "cell_type": "markdown",
   "metadata": {},
   "source": [
    "### Предсказание цен на дом\n",
    "\n",
    "##### Exploratory Data \n",
    "\n",
    "Проведем разведочный анализ данных и препроцессирование. Имеем несколько категориальных признаков:\n",
    "1. mainroad\n",
    "2. guestroom\n",
    "3. hotwatering\n",
    "4. air conditioning\n",
    "Закодируем эти категорильные признаки"
   ]
  },
  {
   "cell_type": "code",
   "execution_count": 7,
   "metadata": {},
   "outputs": [
    {
     "ename": "SyntaxError",
     "evalue": "incomplete input (133245794.py, line 8)",
     "output_type": "error",
     "traceback": [
      "\u001b[0;36m  Cell \u001b[0;32mIn[7], line 8\u001b[0;36m\u001b[0m\n\u001b[0;31m    for feature in categorical_features:\u001b[0m\n\u001b[0m                                        ^\u001b[0m\n\u001b[0;31mSyntaxError\u001b[0m\u001b[0;31m:\u001b[0m incomplete input\n"
     ]
    }
   ],
   "source": [
    "import matplotlib.pyplot as plt\n",
    "import numpy as np\n",
    "import pandas as pd\n",
    "from sklearn.preprocessing import LabelEncoder\n",
    "\n",
    "df = pd.read_csv('./Housing.csv')\n",
    "categorical_features = ['mainroad', 'guestroom', 'basement', 'hotwaterheating', 'airconditioning', 'prefarea', 'furnishingstatus']\n",
    "for feature in categorical_features:\n",
    "    df[feature] = LabelEncoder().fit_transform(df[feature])\n",
    "\n",
    "print(df)"
   ]
  },
  {
   "cell_type": "code",
   "execution_count": 3,
   "metadata": {},
   "outputs": [
    {
     "name": "stdout",
     "output_type": "stream",
     "text": [
      "5668\n",
      "702\n",
      "715\n"
     ]
    }
   ],
   "source": [
    "\n",
    "train = df.sample(frac=0.8) # тренировчоная выборка\n",
    "test_control = df.drop(train.index) \n",
    "test = test_control.sample(frac=0.5) # тестовая выброка\n",
    "control = test_control.drop(test.index) # контрольная выборка\n"
   ]
  },
  {
   "attachments": {},
   "cell_type": "markdown",
   "metadata": {},
   "source": [
    "##### Линейная регрессия\n",
    "Используем линейную регрессию для предсказания цены. Пользоваться будем пакетом TensorFlow.\n",
    "1. Описать модель\n",
    "2. Натренировать модель\n",
    "3. Рассчитать метрику"
   ]
  },
  {
   "cell_type": "code",
   "execution_count": 5,
   "metadata": {},
   "outputs": [
    {
     "name": "stdout",
     "output_type": "stream",
     "text": [
      "13\n"
     ]
    }
   ],
   "source": [
    "import os\n",
    "os.environ['TF_CPP_MIN_LOG_LEVEL'] = '2'\n",
    "\n",
    "from tensorflow import keras\n",
    "from keras.models import Sequential\n",
    "from keras.layers import Dense\n",
    "\n",
    "num_of_inputs = len(train.axes[1])\n",
    "print(num_of_inputs)\n",
    "\n"
   ]
  }
 ],
 "metadata": {
  "kernelspec": {
   "display_name": "Python 3",
   "language": "python",
   "name": "python3"
  },
  "language_info": {
   "codemirror_mode": {
    "name": "ipython",
    "version": 3
   },
   "file_extension": ".py",
   "mimetype": "text/x-python",
   "name": "python",
   "nbconvert_exporter": "python",
   "pygments_lexer": "ipython3",
   "version": "3.11.4"
  },
  "orig_nbformat": 4
 },
 "nbformat": 4,
 "nbformat_minor": 2
}
